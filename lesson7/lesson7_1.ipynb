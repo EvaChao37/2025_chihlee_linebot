{
 "cells": [
  {
   "cell_type": "code",
   "execution_count": 7,
   "id": "0d92dbda",
   "metadata": {},
   "outputs": [
    {
     "data": {
      "text/markdown": [
       "人工智慧 (AI) 是一種模擬人類智慧過程的技術，它讓機器能夠學習、推理、解決問題、感知環境，並理解或產生語言。\n",
       "\n",
       "要理解 AI 如何運作，我們可以將其分解為幾個核心概念和步驟：\n",
       "\n",
       "### 核心運作機制\n",
       "\n",
       "大部分現代 AI，特別是機器學習 (Machine Learning) 和深度學習 (Deep Learning) 領域，其運作方式可概括為以下四個階段：\n",
       "\n",
       "1.  **數據 (Data)：AI 的「糧食」**\n",
       "    *   **作用：** 數據是 AI 學習的基礎。就像人類需要透過觀察和經驗來學習一樣，AI 需要大量的數據來識別模式、規律和特徵。\n",
       "    *   **類型：** 這些數據可以是圖片、文字、聲音、數字表格、影片等等。例如，如果你想讓 AI 辨識貓，就需要給它看成千上萬張貓的圖片，並標註這些是「貓」。\n",
       "    *   **重要性：** 數據的數量、質量和多樣性直接影響 AI 的學習效果和最終表現。\n",
       "\n",
       "2.  **演算法與模型 (Algorithms & Models)：AI 的「大腦」或「規則集」**\n",
       "    *   **作用：** 演算法是 AI 用來從數據中學習的數學指令和規則。模型則是演算法在學習了數據之後形成的一種內部結構或功能，它代表了數據中學到的知識。\n",
       "    *   **類型：** 有許多不同種類的演算法和模型，例如：\n",
       "        *   **決策樹 (Decision Trees)：** 像流程圖一樣做出判斷。\n",
       "        *   **支援向量機 (Support Vector Machines, SVM)：** 尋找數據中的最佳分割線。\n",
       "        *   **神經網路 (Neural Networks)：** 模仿人腦結構，特別適用於處理複雜模式（如圖像和語音）。\n",
       "        *   **其他：** 聚類演算法、迴歸演算法等。\n",
       "    *   **目標：** 選擇合適的演算法和模型，旨在有效地從給定數據中提取有用的模式。\n",
       "\n",
       "3.  **訓練 (Training)：AI 的「學習過程」**\n",
       "    *   **作用：** 這是 AI 學習的關鍵階段。將大量的數據輸入到選定的演算法模型中，模型會反覆地處理這些數據，並根據預設的目標（例如預測的準確性或分類的正確性）來調整其內部的參數和權重。\n",
       "    *   **過程：** 想像一個孩子學習辨識貓狗。你給他看一張貓的圖片並告訴他這是「貓」，如果他猜錯了，你會糾正他。AI 也類似，模型會做出預測，然後將預測結果與真實答案（數據中的標籤）進行比較，計算出誤差，再根據這個誤差反向調整其內部連接（權重和偏差），以減少下次的誤差。這個過程會反覆進行數百萬甚至數十億次，直到模型的錯誤率降低到可接受的程度。\n",
       "    *   **結果：** 經過訓練的模型，就「學會」了數據中的規律和模式。\n",
       "\n",
       "4.  **推理/預測 (Inference/Prediction)：AI 的「應用」**\n",
       "    *   **作用：** 訓練完成後，模型就可以用來處理從未見過的新數據，並根據它所學到的知識做出判斷、預測或決策。\n",
       "    *   **範例：**\n",
       "        *   給一個訓練好的圖像辨識 AI 一張新的、從未見過的圖片，它能夠辨識出圖片中是否有人、動物或物體。\n",
       "        *   一個語音助理（如 Siri, Google Assistant）接收到你的語音指令，能將其轉換為文字並理解其意圖。\n",
       "        *   推薦系統根據你過去的瀏覽和購買記錄，推薦你可能感興趣的商品或內容。\n",
       "\n",
       "### AI 快速發展的原因\n",
       "\n",
       "近年來 AI 之所以能快速發展，主要得益於三個要素的匯聚：\n",
       "\n",
       "1.  **大數據 (Big Data)：** 網際網路和物聯網的普及，產生了海量、多樣化的數據，為 AI 學習提供了前所未有的「糧食」。\n",
       "2.  **強大的計算能力 (Powerful Computational Power)：** 圖形處理器 (GPU) 等硬體技術的進步，提供了訓練複雜 AI 模型所需的龐大計算能力。\n",
       "3.  **演算法的突破 (Algorithmic Breakthroughs)：** 特別是深度學習領域的演算法創新（如卷積神經網路 CNN、循環神經網路 RNN、變形金剛 Transformer 等），使得 AI 能夠處理和理解更複雜的數據。\n",
       "\n",
       "### 一個簡單的比喻\n",
       "\n",
       "想像你正在教一個孩子（AI）如何分辨蘋果和香蕉：\n",
       "\n",
       "*   **數據：** 你給孩子看很多蘋果和香蕉的圖片，並告訴他哪些是「蘋果」，哪些是「香蕉」（這就是帶有標籤的訓練數據）。\n",
       "*   **模型：** 孩子的大腦開始建立一套規則，例如「紅色、圓形的是蘋果」、「黃色、彎曲的是香蕉」。這些規則就是 AI 模型的雛形。\n",
       "*   **訓練：** 當你拿出一個新的水果圖片，孩子猜錯了，你會糾正他，讓他調整自己的規則（這就是訓練過程中的模型參數調整）。\n",
       "*   **推理/預測：** 經過足夠多的訓練，當你拿出一個孩子從未見過的新蘋果或香蕉，他就能正確地辨認出來了。\n",
       "\n",
       "總而言之，AI 的運作核心是 **「從數據中學習模式，然後利用這些模式對新數據做出判斷或預測」**。它不是真正的智慧，而是透過複雜的數學和計算，模仿和執行特定任務，達到類似智慧的表現。"
      ],
      "text/plain": [
       "<IPython.core.display.Markdown object>"
      ]
     },
     "metadata": {},
     "output_type": "display_data"
    }
   ],
   "source": [
    "from google import genai\n",
    "import os\n",
    "from IPython.display import display, Markdown, Latex\n",
    "\n",
    "client = genai.Client(api_key=os.environ['GEMINI_API_KEY'])\n",
    "\n",
    "response = client.models.generate_content(\n",
    "    model=\"gemini-2.5-flash\",\n",
    "    contents=\"AI是如何工作的(請使用繁體中文回答)?\"\n",
    ")\n",
    "\n",
    "display(Markdown(response.text))\n"
   ]
  },
  {
   "cell_type": "code",
   "execution_count": 8,
   "id": "be3ee839",
   "metadata": {},
   "outputs": [
    {
     "name": "stdout",
     "output_type": "stream",
     "text": [
      "AI的工作方式相當複雜，但可以大致從幾方面來理解。\n",
      "The way AI works is quite complex, but it can be understood from several key perspectives.\n",
      "\n",
      "首先，AI通常需要大量的數據來學習，這就像人類需要經驗一樣。\n",
      "First, AI typically requires large amounts of data to learn, much like humans need experience.\n",
      "\n",
      "這些數據會被輸入到演算法中，演算法就像是AI學習和解決問題的藍圖或一套規則。\n",
      "This data is fed into algorithms, which are like blueprints or a set of rules for the AI to learn and solve problems.\n",
      "\n",
      "透過處理這些數據，AI會從中找出模式、關聯性或規則。\n",
      "By processing this data, the AI finds patterns, relationships, or rules within it.\n",
      "\n",
      "例如，在影像辨識中，AI透過學習數百萬張圖片來分辨貓和狗。\n",
      "For example, in image recognition, AI learns to distinguish between cats and dogs by studying millions of images.\n",
      "\n",
      "當AI接收到新的數據時，它就會運用已學到的模式來做出預測或決定。\n",
      "When the AI receives new data, it applies the patterns it has learned to make predictions or decisions.\n",
      "\n",
      "這個過程不斷重複，每次預測錯誤時，AI都會調整其內部參數，以求下次表現更好。\n",
      "This process repeats continuously, and each time a prediction is wrong, the AI adjusts its internal parameters to perform better next time.\n",
      "\n",
      "這就是所謂的「機器學習」，是大多數現代AI的基礎。\n",
      "This is known as \"machine learning,\" which is the foundation for most modern AI.\n",
      "\n",
      "更複雜的AI，如深度學習，會使用多層次的類神經網絡來模擬人腦的結構，處理更抽象和複雜的問題。\n",
      "More complex AI, like deep learning, uses multi-layered artificial neural networks to simulate the structure of the human brain, handling more abstract and complex problems.\n",
      "\n",
      "總而言之，AI透過學習數據中的模式，應用演算法來執行任務，並從錯誤中不斷改進。\n",
      "In summary, AI works by learning patterns from data, applying algorithms to perform tasks, and continuously improving from its mistakes.\n"
     ]
    }
   ],
   "source": [
    "from google import genai\n",
    "from google.genai import types\n",
    "\n",
    "client = genai.Client()\n",
    "\n",
    "system_instruction = \"\"\"\n",
    "你是個友善且樂於助人的助理。\n",
    "回答時,請回答繁體中文和英文,\n",
    "一行繁體中文,一行英文翻譯\n",
    "\"\"\"\n",
    "\n",
    "\n",
    "\n",
    "thinking = types.ThinkingConfig(thinking_budget=100)\n",
    "\n",
    "config = types.GenerateContentConfig(\n",
    "    thinking_config=thinking, # Disables thinking\n",
    "    temperature=1,\n",
    "    top_k=40,\n",
    "    top_p=1,\n",
    "    system_instruction=system_instruction\n",
    "    \n",
    ")\n",
    "\n",
    "\n",
    "\n",
    "response = client.models.generate_content(\n",
    "    model=\"gemini-2.5-flash\",\n",
    "    contents=[\"AI是如何工作的?\"],\n",
    "    config=config\n",
    ")\n",
    "print(response.text)"
   ]
  }
 ],
 "metadata": {
  "kernelspec": {
   "display_name": "line_bot",
   "language": "python",
   "name": "python3"
  },
  "language_info": {
   "codemirror_mode": {
    "name": "ipython",
    "version": 3
   },
   "file_extension": ".py",
   "mimetype": "text/x-python",
   "name": "python",
   "nbconvert_exporter": "python",
   "pygments_lexer": "ipython3",
   "version": "3.12.11"
  }
 },
 "nbformat": 4,
 "nbformat_minor": 5
}
