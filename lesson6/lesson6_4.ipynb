{
 "cells": [
  {
   "cell_type": "code",
   "execution_count": 4,
   "id": "a8506c8d",
   "metadata": {},
   "outputs": [
    {
     "name": "stdout",
     "output_type": "stream",
     "text": [
      "===========AI回應==============\n"
     ]
    },
    {
     "data": {
      "text/markdown": [
       "想像一下，Python的函式就像是**工具箱**。 \n",
       "\n",
       "**函式就像是一些小型的、重複使用的操作，它可以做很多事情，例如：**\n",
       "\n",
       "* **計算：** 比如你想要知道一個數字是幾乘幾乘多少。\n",
       "* **處理數據：** 比如將一個列表中的數字轉換成另一個格式。\n",
       "* **做一些創意：** 比如把一個句子改寫成一個新句子。\n",
       "\n",
       "**為什麼我們需要函式？**\n",
       "\n",
       "* **重複性：**  如果你要做很多類似的計算，用函式可以省力。\n",
       "* **簡潔性：**  一個函式可以寫得更簡單，更容易理解。\n",
       "* **可重用性：**  你不用再寫重複的程式碼。\n",
       "\n",
       "**總之， Python 的函式就像是你可以重複使用的，而且非常高效的程式碼片段。**\n",
       "\n",
       "**簡單來說，一個函式就是為特定任務設計的程式碼。**\n",
       "\n",
       "希望這個解釋能幫助你理解！"
      ],
      "text/plain": [
       "<IPython.core.display.Markdown object>"
      ]
     },
     "metadata": {},
     "output_type": "display_data"
    }
   ],
   "source": [
    "import requests\n",
    "#import pprint\n",
    "from pprint import pprint\n",
    "from IPython.display import Markdown, display\n",
    "\n",
    "def generate_with_ollama(prompt:str)->None:\n",
    "    url = \"http://localhost:11434/api/generate\"\n",
    "    payload = {\n",
    "        \"model\":\"gemma3:1b\",\n",
    "        \"prompt\":prompt,\n",
    "        \"stream\":False\n",
    "    }\n",
    "    response = requests.post(url,json=payload)\n",
    "    result = response.json()\n",
    "    #print(type(result))\n",
    "    #pprint(result)\n",
    "    print(\"===========AI回應==============\")\n",
    "    display(Markdown(result['response']))\n",
    "\n",
    "generate_with_ollama(\"請用簡單的方式解釋什麼是Python的函式？\")"
   ]
  }
 ],
 "metadata": {
  "kernelspec": {
   "display_name": "line_bot",
   "language": "python",
   "name": "python3"
  },
  "language_info": {
   "codemirror_mode": {
    "name": "ipython",
    "version": 3
   },
   "file_extension": ".py",
   "mimetype": "text/x-python",
   "name": "python",
   "nbconvert_exporter": "python",
   "pygments_lexer": "ipython3",
   "version": "3.12.11"
  }
 },
 "nbformat": 4,
 "nbformat_minor": 5
}
