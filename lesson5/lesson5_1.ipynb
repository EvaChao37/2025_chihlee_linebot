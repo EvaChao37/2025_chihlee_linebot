{
 "cells": [
  {
   "cell_type": "code",
   "execution_count": 38,
   "id": "eec2fad9",
   "metadata": {},
   "outputs": [
    {
     "name": "stdout",
     "output_type": "stream",
     "text": [
      "成功\n"
     ]
    },
    {
     "data": {
      "text/markdown": [
       "天空之所以是藍色的，主要是因為一種叫做 **瑞利散射 (Rayleigh scattering)** 的現象。簡單來說，太陽光中的所有顏色混合在一起，但藍色和紫色光的波長較短，更容易被空氣中的微小粒子（如氮氣和氧氣）散射掉，而其他顏色（紅色、黃色、綠色等）則更不容易被散射。\n",
       "\n",
       "以下是更詳細的解釋：\n",
       "\n",
       "1. **太陽光中的顏色：** 太陽光看起來是白色的，但實際上是由紅、黃、綠等各種顏色的光組成。\n",
       "\n",
       "2. **瑞利散射的原理：** 瑞利散射是指，當光線遇到小球體時，會被向四面八方散播。波長較短的光（藍色和紫色）更容易被散射掉，而波長較長的光（紅色和黃色）則更難被散射。\n",
       "\n",
       "3. **地球大氣層中的粒子：** 地球的大氣層中充滿了大量的微小顆粒，主要是氮氣和氧氣。\n",
       "\n",
       "4. **藍色光的散射效率更高：** 瑞利散射的效率與光的波長有關。藍色光的波長比較短，因此更容易被散射，因此我們在晴朗的天空上看到的是藍色。\n",
       "\n",
       "**為什麼紫色比藍色更豐富？**\n",
       "\n",
       "雖然紫色光的散射效率更高，但太陽光中紫光的含量相對較少，所以我們通常看到的主要是藍色。 另外，我們的眼睛對藍色光的敏感度更高。\n",
       "\n",
       "**總結來說，天空呈現藍色是因為太陽光中的藍色光更容易被空氣中的微小粒子散射掉，從而讓我們看到藍色的天空。**\n",
       "\n",
       "希望這個解釋能幫助你理解！\n"
      ],
      "text/plain": [
       "<IPython.core.display.Markdown object>"
      ]
     },
     "metadata": {},
     "output_type": "display_data"
    }
   ],
   "source": [
    "import requests\n",
    "from IPython.display import Markdown, display\n",
    "url = \"http://localhost:11434/api/generate\"\n",
    "response = requests.post(url,json={\n",
    "    \"model\": \"gemma3:1b\",\n",
    "    \"prompt\":\"天空為什麼是藍色的？\",\n",
    "    \"stream\": False\n",
    "})\n",
    "if response.status_code == 200:\n",
    "    print(\"成功\")\n",
    "    result = response.json()\n",
    "    display(Markdown(result['response']))\n",
    "else:\n",
    "    print(\"失敗\")\n",
    "    print(\"原因,response.status_code)\")"
   ]
  },
  {
   "cell_type": "code",
   "execution_count": 35,
   "id": "be49bfd7",
   "metadata": {},
   "outputs": [
    {
     "name": "stdout",
     "output_type": "stream",
     "text": [
      "tw\n",
      "jp\n",
      "hk\n",
      "Taiwan\n",
      "Japan\n",
      "Hong Kong\n",
      "Taiwan tw\n",
      "Japan jp\n",
      "Hong Kong hk\n"
     ]
    }
   ],
   "source": [
    "codes = {\n",
    "    \"tw\":\"Taiwan\",\n",
    "    \"jp\":\"Japan\",\n",
    "    \"hk\":\"Hong Kong\",\n",
    "}\n",
    "codes[\"tw\"]\n",
    "codes[\"jp\"]\n",
    "codes[\"hk\"]\n",
    "codes.keys()\n",
    "for item in codes.keys():\n",
    "    print(item)\n",
    "\n",
    "for value in codes.values():\n",
    "    print(value)\n",
    "\n",
    "for (code,name) in codes.items():\n",
    "    print(name, code)\n"
   ]
  }
 ],
 "metadata": {
  "kernelspec": {
   "display_name": "line_bot",
   "language": "python",
   "name": "python3"
  },
  "language_info": {
   "codemirror_mode": {
    "name": "ipython",
    "version": 3
   },
   "file_extension": ".py",
   "mimetype": "text/x-python",
   "name": "python",
   "nbconvert_exporter": "python",
   "pygments_lexer": "ipython3",
   "version": "3.12.11"
  }
 },
 "nbformat": 4,
 "nbformat_minor": 5
}
