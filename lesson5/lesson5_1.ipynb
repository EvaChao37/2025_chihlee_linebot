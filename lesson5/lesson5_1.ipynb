{
 "cells": [
  {
   "cell_type": "code",
   "execution_count": 41,
   "id": "eec2fad9",
   "metadata": {},
   "outputs": [
    {
     "ename": "IndentationError",
     "evalue": "unexpected indent (3606654766.py, line 9)",
     "output_type": "error",
     "traceback": [
      "  \u001b[36mCell\u001b[39m\u001b[36m \u001b[39m\u001b[32mIn[41]\u001b[39m\u001b[32m, line 9\u001b[39m\n\u001b[31m    \u001b[39m\u001b[31m\"options\":\u001b[39m\n    ^\n\u001b[31mIndentationError\u001b[39m\u001b[31m:\u001b[39m unexpected indent\n"
     ]
    }
   ],
   "source": [
    "import requests\n",
    "from IPython.display import Markdown, display\n",
    "url = \"http://localhost:11434/api/generate\"\n",
    "response = requests.post(url,json={\n",
    "    \"model\": \"gemma3:1b\",\n",
    "    \"prompt\":\"天空為什麼是藍色的？\",\n",
    "    \"stream\": False\n",
    "})\n",
    "\n",
    "if response.status_code == 200:\n",
    "    print(\"成功\")\n",
    "    result = response.json()\n",
    "    display(Markdown(result['response']))\n",
    "else:\n",
    "    print(\"失敗\")\n",
    "    print(\"原因,response.status_code)\")"
   ]
  },
  {
   "cell_type": "code",
   "execution_count": 35,
   "id": "be49bfd7",
   "metadata": {},
   "outputs": [
    {
     "name": "stdout",
     "output_type": "stream",
     "text": [
      "tw\n",
      "jp\n",
      "hk\n",
      "Taiwan\n",
      "Japan\n",
      "Hong Kong\n",
      "Taiwan tw\n",
      "Japan jp\n",
      "Hong Kong hk\n"
     ]
    }
   ],
   "source": [
    "codes = {\n",
    "    \"tw\":\"Taiwan\",\n",
    "    \"jp\":\"Japan\",\n",
    "    \"hk\":\"Hong Kong\",\n",
    "}\n",
    "codes[\"tw\"]\n",
    "codes[\"jp\"]\n",
    "codes[\"hk\"]\n",
    "codes.keys()\n",
    "for item in codes.keys():\n",
    "    print(item)\n",
    "\n",
    "for value in codes.values():\n",
    "    print(value)\n",
    "\n",
    "for (code,name) in codes.items():\n",
    "    print(name, code)\n"
   ]
  },
  {
   "cell_type": "code",
   "execution_count": 42,
   "id": "e9c42bcc",
   "metadata": {},
   "outputs": [
    {
     "name": "stdout",
     "output_type": "stream",
     "text": [
      "💬 AI 回應：\n",
      "{'model': 'gemma3:1b', 'created_at': '2025-07-26T08:18:48.616786334Z', 'response': '{\\n\"解釋：\":\"Python的函式就像一個小小的程式碼指令，可以讓程式執行不同的任務。你可以把它想像成一個指令，告訴程式要做什麼。 就像一個廚師會用不同的調味料，讓菜餚更好吃一樣。 函式可以做很多事情，比如：\" \\n  \\n   \\n   \\n   \\n   \\n   \\n   \\n   \\n   \\n   \\n   \\n   \\n   \\n   \\n   ', 'done': False}\n",
      "{\n",
      "\"解釋：\":\"Python的函式就像一個小小的程式碼指令，可以讓程式執行不同的任務。你可以把它想像成一個指令，告訴程式要做什麼。 就像一個廚師會用不同的調味料，讓菜餚更好吃一樣。 函式可以做很多事情，比如：\" \n",
      "  \n",
      "   \n",
      "   \n",
      "   \n",
      "   \n",
      "   \n",
      "   \n",
      "   \n",
      "   \n",
      "   \n",
      "   \n",
      "   \n",
      "   \n",
      "   \n",
      "   \n"
     ]
    }
   ],
   "source": [
    "import requests\n",
    "\n",
    "def chat_with_ollama(prompt: str):\n",
    "    url = \"http://localhost:11434/api/generate\"\n",
    "    payload = {\n",
    "        \"model\": \"gemma3:1b\",\n",
    "        \"prompt\": prompt,\n",
    "        \"stream\": False,\n",
    "        \"options\": { #參考說明1\n",
    "            \"temperature\": 0.7,\n",
    "            \"top_p\": 0.9,\n",
    "            \"top_k\": 50,\n",
    "        },\n",
    "        \"max_tokens\": 100,\n",
    "        \"format\": \"json\",\n",
    "    }\n",
    "\n",
    "    response = requests.post(url, json=payload)\n",
    "    result = response.json()\n",
    "    print(\"💬 AI 回應：\")\n",
    "    # Print the whole result for debugging\n",
    "    print(result)\n",
    "    # Try to print the 'response' key if it exists, otherwise print possible keys\n",
    "    if \"response\" in result:\n",
    "        print(result[\"response\"])\n",
    "    elif \"message\" in result:\n",
    "        print(result[\"message\"])\n",
    "    elif \"content\" in result:\n",
    "        print(result[\"content\"])\n",
    "    else:\n",
    "        print(\"No expected key found in response. Available keys:\", result.keys())\n",
    "\n",
    "#範例輸入\n",
    "chat_with_ollama(\"請用簡單的方式解釋什麼是Python的函式？\")"
   ]
  }
 ],
 "metadata": {
  "kernelspec": {
   "display_name": "line_bot",
   "language": "python",
   "name": "python3"
  },
  "language_info": {
   "codemirror_mode": {
    "name": "ipython",
    "version": 3
   },
   "file_extension": ".py",
   "mimetype": "text/x-python",
   "name": "python",
   "nbconvert_exporter": "python",
   "pygments_lexer": "ipython3",
   "version": "3.12.11"
  }
 },
 "nbformat": 4,
 "nbformat_minor": 5
}
